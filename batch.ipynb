{
 "cells": [
  {
   "cell_type": "code",
   "execution_count": 26,
   "metadata": {},
   "outputs": [
    {
     "name": "stdout",
     "output_type": "stream",
     "text": [
      "<class 'torch.Tensor'>\n",
      "<class 'torch.Tensor'>\n",
      "<class 'torch.Tensor'>\n",
      "<class 'torch.Tensor'>\n",
      "<class 'torch.Tensor'>\n",
      "<class 'torch.Tensor'>\n",
      "<class 'torch.Tensor'>\n",
      "<class 'torch.Tensor'>\n",
      "<class 'torch.Tensor'>\n",
      "<class 'torch.Tensor'>\n",
      "<class 'torch.Tensor'>\n",
      "<class 'torch.Tensor'>\n",
      "<class 'torch.Tensor'>\n",
      "<class 'torch.Tensor'>\n",
      "<class 'torch.Tensor'>\n",
      "<class 'torch.Tensor'>\n",
      "<class 'torch.Tensor'>\n",
      "<class 'torch.Tensor'>\n",
      "<class 'torch.Tensor'>\n",
      "<class 'torch.Tensor'>\n"
     ]
    }
   ],
   "source": [
    "import torch\n",
    "from torchvision import transforms, datasets\n",
    "\n",
    "# Définir le dossier contenant les images\n",
    "folder_path = 'img'\n",
    "\n",
    "# Définir la transformation à appliquer à chaque image\n",
    "image_transforms = transforms.Compose([\n",
    "    transforms.Resize((224, 224)), # Redimensionner l'image\n",
    "    transforms.ToTensor() # Convertir l'image en un tenseur PyTorch\n",
    "])\n",
    "\n",
    "# Charger les images en tant que dataset\n",
    "image_dataset = datasets.ImageFolder(root=folder_path, transform=image_transforms)\n",
    "\n",
    "# Définir la taille du batch\n",
    "batch_size = 4\n",
    "\n",
    "# Créer un DataLoader pour charger les images en tant que batchs\n",
    "image_loader = torch.utils.data.DataLoader(image_dataset, batch_size=batch_size, shuffle=True)\n",
    "\n",
    "for batch_idx, (data, target) in enumerate(image_loader):\n",
    "    # data contient un batch de données et target contient un batch d'étiquettes correspondantes\n",
    "    \n",
    "    # Accéder aux images dans le batch de données\n",
    "    for image_idx, image in enumerate(data):\n",
    "        # image est un tenseur PyTorch représentant une image dans le batch\n",
    "\n",
    "        # Effectuer des opérations sur l'image ici\n",
    "        print(type(image))\n",
    "\n"
   ]
  },
  {
   "cell_type": "code",
   "execution_count": 19,
   "metadata": {},
   "outputs": [
    {
     "data": {
      "text/plain": [
       "<torch.utils.data.dataloader.DataLoader at 0x1ec4653fd90>"
      ]
     },
     "execution_count": 19,
     "metadata": {},
     "output_type": "execute_result"
    }
   ],
   "source": [
    "image_loader"
   ]
  }
 ],
 "metadata": {
  "kernelspec": {
   "display_name": "Python 3",
   "language": "python",
   "name": "python3"
  },
  "language_info": {
   "codemirror_mode": {
    "name": "ipython",
    "version": 3
   },
   "file_extension": ".py",
   "mimetype": "text/x-python",
   "name": "python",
   "nbconvert_exporter": "python",
   "pygments_lexer": "ipython3",
   "version": "3.10.10"
  },
  "orig_nbformat": 4,
  "vscode": {
   "interpreter": {
    "hash": "0284b1e34e494781da6537966084e394639bb3ab30a3ea3d0b2b75175f82c078"
   }
  }
 },
 "nbformat": 4,
 "nbformat_minor": 2
}
