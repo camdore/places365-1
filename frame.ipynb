{
 "cells": [
  {
   "cell_type": "code",
   "execution_count": 23,
   "metadata": {},
   "outputs": [],
   "source": [
    "import cv2\n",
    "\n",
    "# nom de la vidéo\n",
    "video_file = \"Kiri.mp4\"\n",
    "\n",
    "# ouvrir la vidéo\n",
    "cap = cv2.VideoCapture(video_file)\n",
    "\n",
    "# récupérer le nombre total de frames\n",
    "total_frames = int(cap.get(cv2.CAP_PROP_FRAME_COUNT))\n",
    "\n",
    "# récupérer le délai entre les frames\n",
    "frame_delay = int(cap.get(cv2.CAP_PROP_FPS))\n",
    "\n",
    "# longueur vidéo (en secondes)\n",
    "video_length= total_frames//frame_delay\n",
    "\n",
    "# déterminer l'intervalle entre les frames à découper\n",
    "interval = (video_length*5/100)*frame_delay\n",
    "\n",
    "# initialiser le compteur de frames\n",
    "count = 0\n",
    "\n",
    "# boucle sur les frames\n",
    "while cap.isOpened():\n",
    "    # lire le frame suivant\n",
    "    ret, frame = cap.read()\n",
    "\n",
    "    # sortir de la boucle si on atteint la fin de la vidéo\n",
    "    if not ret:\n",
    "        break\n",
    "\n",
    "    # incrémenter le compteur de frames\n",
    "    count += 1\n",
    "\n",
    "    # sauvegarder le frame s'il est inclus dans l'intervalle\n",
    "    if count % interval == 0:\n",
    "        cv2.imwrite(\"img/frame_{}.jpg\".format(count // interval), frame)\n",
    "\n",
    "# libérer la vidéo\n",
    "cap.release()"
   ]
  }
 ],
 "metadata": {
  "kernelspec": {
   "display_name": "Python 3",
   "language": "python",
   "name": "python3"
  },
  "language_info": {
   "codemirror_mode": {
    "name": "ipython",
    "version": 3
   },
   "file_extension": ".py",
   "mimetype": "text/x-python",
   "name": "python",
   "nbconvert_exporter": "python",
   "pygments_lexer": "ipython3",
   "version": "3.10.7"
  },
  "orig_nbformat": 4,
  "vscode": {
   "interpreter": {
    "hash": "0284b1e34e494781da6537966084e394639bb3ab30a3ea3d0b2b75175f82c078"
   }
  }
 },
 "nbformat": 4,
 "nbformat_minor": 2
}
