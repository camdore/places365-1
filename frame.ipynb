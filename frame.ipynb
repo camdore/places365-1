{
 "cells": [
  {
   "cell_type": "code",
   "execution_count": 20,
   "metadata": {},
   "outputs": [],
   "source": [
    "import cv2\n",
    "import os\n",
    "\n",
    "# dossier= \"img\"\n",
    "# sous_dossier= \"img\"\n",
    "# os.mkdir(dossier)\n",
    "# chemin_sous_dossier= os.path.join(dossier, sous_dossier)\n",
    "# if not os.path.exists(chemin_sous_dossier):\n",
    "#     os.mkdir(chemin_sous_dossier)\n",
    "# else:\n",
    "#     os.rmdir(chemin_sous_dossier)\n",
    "#     os.mkdir(chemin_sous_dossier)\n",
    "\n",
    "\n",
    "# nom de la vidéo\n",
    "video_file = \"Inside Lenny Kravitz's Brazilian Farm Compound _ Open Door _ Architectural Digest-FlsKjWqu82k.mp4\"\n",
    "\n",
    "# ouvrir la vidéo\n",
    "cap = cv2.VideoCapture(video_file)\n",
    "\n",
    "# récupérer le nombre total de frames\n",
    "total_frames = int(cap.get(cv2.CAP_PROP_FRAME_COUNT))\n",
    "\n",
    "# récupérer le délai entre les frames\n",
    "frame_delay = int(cap.get(cv2.CAP_PROP_FPS))\n",
    "\n",
    "# longueur vidéo (en secondes)\n",
    "video_length= total_frames//frame_delay\n",
    "\n",
    "# déterminer l'intervalle entre les frames à découper\n",
    "interval = int((video_length*5/100)*frame_delay)\n",
    "\n",
    "# initialiser le compteur de frames\n",
    "count = 0\n",
    "nb_frame=0\n",
    "list_frames = []\n",
    "# boucle sur les frames\n",
    "while cap.isOpened():\n",
    "    # lire le frame suivant\n",
    "    ret, frame = cap.read()\n",
    "\n",
    "    # sortir de la boucle si on atteint la fin de la vidéo\n",
    "    if not ret:\n",
    "        break\n",
    "\n",
    "    # incrémenter le compteur de frames\n",
    "    count += 1\n",
    "    # print(\"count:\",count)\n",
    "    # sauvegarder le frame s'il est inclus dans l'intervalle\n",
    "    if count % interval == 0:\n",
    "        nb_frame +=1\n",
    "        # print(nb_frame)\n",
    "        list_frames.append(nb_frame)\n",
    "        cv2.imwrite(\"img/img/frame_{}.jpg\".format(count // interval), frame)\n",
    "        \n",
    "\n",
    "# libérer la vidéo\n",
    "cap.release()"
   ]
  },
  {
   "cell_type": "code",
   "execution_count": 21,
   "metadata": {},
   "outputs": [
    {
     "data": {
      "text/plain": [
       "[1,\n",
       " 2,\n",
       " 3,\n",
       " 4,\n",
       " 5,\n",
       " 6,\n",
       " 7,\n",
       " 8,\n",
       " 9,\n",
       " 10,\n",
       " 11,\n",
       " 12,\n",
       " 13,\n",
       " 14,\n",
       " 15,\n",
       " 16,\n",
       " 17,\n",
       " 18,\n",
       " 19,\n",
       " 20,\n",
       " 21,\n",
       " 22,\n",
       " 23]"
      ]
     },
     "execution_count": 21,
     "metadata": {},
     "output_type": "execute_result"
    }
   ],
   "source": [
    "list_frames"
   ]
  },
  {
   "cell_type": "code",
   "execution_count": 10,
   "metadata": {},
   "outputs": [
    {
     "data": {
      "text/plain": [
       "383"
      ]
     },
     "execution_count": 10,
     "metadata": {},
     "output_type": "execute_result"
    }
   ],
   "source": [
    "video_length"
   ]
  },
  {
   "cell_type": "code",
   "execution_count": 11,
   "metadata": {},
   "outputs": [
    {
     "data": {
      "text/plain": [
       "8811"
      ]
     },
     "execution_count": 11,
     "metadata": {},
     "output_type": "execute_result"
    }
   ],
   "source": [
    "total_frames"
   ]
  },
  {
   "cell_type": "code",
   "execution_count": 13,
   "metadata": {},
   "outputs": [
    {
     "data": {
      "text/plain": [
       "440.45"
      ]
     },
     "execution_count": 13,
     "metadata": {},
     "output_type": "execute_result"
    }
   ],
   "source": [
    "interval"
   ]
  },
  {
   "cell_type": "code",
   "execution_count": 14,
   "metadata": {},
   "outputs": [
    {
     "data": {
      "text/plain": [
       "23"
      ]
     },
     "execution_count": 14,
     "metadata": {},
     "output_type": "execute_result"
    }
   ],
   "source": [
    "frame_delay"
   ]
  }
 ],
 "metadata": {
  "kernelspec": {
   "display_name": "Python 3",
   "language": "python",
   "name": "python3"
  },
  "language_info": {
   "codemirror_mode": {
    "name": "ipython",
    "version": 3
   },
   "file_extension": ".py",
   "mimetype": "text/x-python",
   "name": "python",
   "nbconvert_exporter": "python",
   "pygments_lexer": "ipython3",
   "version": "3.10.2"
  },
  "orig_nbformat": 4,
  "vscode": {
   "interpreter": {
    "hash": "0284b1e34e494781da6537966084e394639bb3ab30a3ea3d0b2b75175f82c078"
   }
  }
 },
 "nbformat": 4,
 "nbformat_minor": 2
}
