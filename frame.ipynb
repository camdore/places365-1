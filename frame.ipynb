{
 "cells": [
  {
   "cell_type": "code",
   "execution_count": 19,
   "metadata": {},
   "outputs": [],
   "source": [
    "import cv2\n",
    "\n",
    "# nom de la vidéo\n",
    "video_file = \"Inside Lenny Kravitz's Brazilian Farm Compound _ Open Door _ Architectural Digest-FlsKjWqu82k.mp4\"\n",
    "\n",
    "# ouvrir la vidéo\n",
    "cap = cv2.VideoCapture(video_file)\n",
    "\n",
    "# récupérer le nombre total de frames\n",
    "total_frames = int(cap.get(cv2.CAP_PROP_FRAME_COUNT))\n",
    "\n",
    "# récupérer le délai entre les frames\n",
    "fps = float(cap.get(cv2.CAP_PROP_FPS))\n",
    "\n",
    "# initialiser le compteur de frames\n",
    "count = 0\n",
    "nb_frame=0\n",
    "list_frames = []\n",
    "# boucle sur les frames\n",
    "while cap.isOpened():\n",
    "    # lire le frame suivant\n",
    "    ret, frame = cap.read()\n",
    "\n",
    "    # sortir de la boucle si on atteint la fin de la vidéo\n",
    "    if not ret:\n",
    "        break\n",
    "\n",
    "    count += 1\n",
    "    # sauvegarder le frame s'il est inclus dans l'intervalle\n",
    "    if count % fps == 0:\n",
    "        nb_frame +=1\n",
    "        list_frames.append(nb_frame)\n",
    "\n",
    "# libérer la vidéo\n",
    "cap.release()"
   ]
  },
  {
   "cell_type": "code",
   "execution_count": 20,
   "metadata": {},
   "outputs": [
    {
     "data": {
      "text/plain": [
       "367"
      ]
     },
     "execution_count": 20,
     "metadata": {},
     "output_type": "execute_result"
    }
   ],
   "source": [
    "len(list_frames)"
   ]
  },
  {
   "cell_type": "code",
   "execution_count": 21,
   "metadata": {},
   "outputs": [
    {
     "data": {
      "text/plain": [
       "8811"
      ]
     },
     "execution_count": 21,
     "metadata": {},
     "output_type": "execute_result"
    }
   ],
   "source": [
    "total_frames"
   ]
  },
  {
   "cell_type": "code",
   "execution_count": 22,
   "metadata": {},
   "outputs": [
    {
     "data": {
      "text/plain": [
       "24"
      ]
     },
     "execution_count": 22,
     "metadata": {},
     "output_type": "execute_result"
    }
   ],
   "source": [
    "fps"
   ]
  }
 ],
 "metadata": {
  "kernelspec": {
   "display_name": "Python 3",
   "language": "python",
   "name": "python3"
  },
  "language_info": {
   "codemirror_mode": {
    "name": "ipython",
    "version": 3
   },
   "file_extension": ".py",
   "mimetype": "text/x-python",
   "name": "python",
   "nbconvert_exporter": "python",
   "pygments_lexer": "ipython3",
   "version": "3.10.2"
  },
  "orig_nbformat": 4,
  "vscode": {
   "interpreter": {
    "hash": "0284b1e34e494781da6537966084e394639bb3ab30a3ea3d0b2b75175f82c078"
   }
  }
 },
 "nbformat": 4,
 "nbformat_minor": 2
}
